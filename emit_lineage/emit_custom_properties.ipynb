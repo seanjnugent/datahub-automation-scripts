{
 "cells": [
  {
   "cell_type": "code",
   "execution_count": null,
   "metadata": {
    "vscode": {
     "languageId": "plaintext"
    }
   },
   "outputs": [],
   "source": [
    "import os\n",
    "import yaml\n",
    "from dotenv import load_dotenv\n",
    "import datahub.emitter.mce_builder as builder\n",
    "from datahub.emitter.mcp import MetadataChangeProposalWrapper\n",
    "from datahub.emitter.rest_emitter import DatahubRestEmitter\n",
    "from datahub.metadata.com.linkedin.pegasus2avro.dataset import (\n",
    "    DatasetLineageType,\n",
    "    FineGrainedLineage,\n",
    "    FineGrainedLineageDownstreamType,\n",
    "    FineGrainedLineageUpstreamType,\n",
    "    Upstream,\n",
    "    UpstreamLineage,\n",
    ")\n",
    "\n",
    "# Load environment variables\n",
    "load_dotenv()\n",
    "\n",
    "DATAHUB_SERVER_URL = os.getenv(\"DATAHUB_SERVER_URL\")\n",
    "DATAHUB_TOKEN = os.getenv(\"DATAHUB_TOKEN\")\n",
    "\n",
    "# Initialize the DataHub emitter\n",
    "emitter = DatahubRestEmitter(gms_server=DATAHUB_SERVER_URL, token=DATAHUB_TOKEN)\n",
    "\n",
    "# Load lineage data from the YAML file\n",
    "def load_lineage(file_path):\n",
    "    with open(file_path, 'r') as file:\n",
    "        return yaml.safe_load(file)\n",
    "\n",
    "lineage_data = load_lineage(\"lineage.yml\")\n",
    "\n",
    "# Helper function to create URNs in the proper format\n",
    "def datasetUrn(platform, name, env):\n",
    "    return f\"urn:li:dataset:(urn:li:dataPlatform:{platform},{name},{env})\"\n",
    "\n",
    "def fldUrn(dataset_urn, fld):\n",
    "    return builder.make_schema_field_urn(dataset_urn, fld)\n",
    "\n",
    "# Iterate through lineage data and emit lineage MCPs\n",
    "for lineage_entry in lineage_data['lineages']:\n",
    "    # Correct URN formatting from the source and target\n",
    "    source_urn = datasetUrn(lineage_entry['source']['platform'], lineage_entry['source']['dataset'], \"PROD\")\n",
    "    target_urn = datasetUrn(lineage_entry['target']['platform'], lineage_entry['target']['dataset'], \"PROD\")\n",
    "\n",
    "    # Define the column lineage mappings\n",
    "    field_lineages = []\n",
    "    for field_map in lineage_entry['field_mappings']:\n",
    "        field_lineages.append(\n",
    "            FineGrainedLineage(\n",
    "                upstreamType=FineGrainedLineageUpstreamType.FIELD_SET,\n",
    "                upstreams=[fldUrn(source_urn, field_map['source_field'])],\n",
    "                downstreamType=FineGrainedLineageDownstreamType.FIELD,\n",
    "                downstreams=[fldUrn(target_urn, field_map['target_field'])],\n",
    "            )\n",
    "        )\n",
    "\n",
    "    # Create upstreams and field lineage structure\n",
    "    upstreams = [Upstream(dataset=source_urn, type=DatasetLineageType.TRANSFORMED)]\n",
    "    fieldLineages = UpstreamLineage(upstreams=upstreams, fineGrainedLineages=field_lineages)\n",
    "\n",
    "    # Create and emit MCP\n",
    "    lineageMcp = MetadataChangeProposalWrapper(entityUrn=target_urn, aspect=fieldLineages)\n",
    "    emitter.emit_mcp(lineageMcp)\n",
    "\n",
    "print(\"Lineage emitted successfully!\")\n"
   ]
  }
 ],
 "metadata": {
  "language_info": {
   "name": "python"
  }
 },
 "nbformat": 4,
 "nbformat_minor": 2
}
