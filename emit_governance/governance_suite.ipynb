{
 "cells": [
  {
   "cell_type": "code",
   "execution_count": null,
   "metadata": {
    "vscode": {
     "languageId": "plaintext"
    }
   },
   "outputs": [],
   "source": [
    "import os\n",
    "import time\n",
    "import requests\n",
    "import psycopg2  # Assuming you're using psycopg2 for PostgreSQL connection\n",
    "\n",
    "# Database connection setup\n",
    "conn = psycopg2.connect(\n",
    "    dbname=os.getenv(\"DB_NAME\"),\n",
    "    user=os.getenv(\"DB_USER\"),\n",
    "    password=os.getenv(\"DB_PASSWORD\"),\n",
    "    host=os.getenv(\"DB_HOST\")\n",
    ")\n",
    "cursor = conn.cursor()\n",
    "\n",
    "# Set up DataHub API variables\n",
    "datahub_url = os.getenv(\"DATAHUB_SERVER_URL\", \"http://35.177.132.152:8080\") + \"/api/v3/entity/dataset\"\n",
    "headers = {\n",
    "    \"Authorization\": f\"Bearer {os.getenv('DATAHUB_TOKEN')}\",\n",
    "    \"Content-Type\": \"application/json\"\n",
    "}\n",
    "\n",
    "# Query datasets\n",
    "cursor.execute(\"SELECT urn FROM your_dataset_table\")  # Replace with your actual table and column\n",
    "rows = cursor.fetchall()\n"
   ]
  },
  {
   "cell_type": "code",
   "execution_count": null,
   "metadata": {
    "vscode": {
     "languageId": "plaintext"
    }
   },
   "outputs": [],
   "source": [
    "\n",
    "# Process each dataset and send the result to DataHub\n",
    "for row in rows:\n",
    "    urn = row[0]\n",
    "    completeness_status = 'FAILURE'  # No owner found, hence 'FAILURE'\n",
    "    timestamp = int(time.time() * 1000)  # Current time in milliseconds\n",
    "\n",
    "    # Create payload\n",
    "    payload = {\n",
    "        \"value\": {\n",
    "            \"failing\": [\n",
    "                {\n",
    "                    \"test\": \"urn:li:test:metadata_completeness_check\",\n",
    "                    \"type\": completeness_status,\n",
    "                    \"testDefinitionMd5\": \"someUniqueMd5Hash\",\n",
    "                    \"lastComputed\": {\n",
    "                        \"time\": timestamp,\n",
    "                        \"actor\": \"urn:li:corpuser:datahub\"\n",
    "                    }\n",
    "                }\n",
    "            ],\n",
    "            \"passing\": []\n",
    "        },\n",
    "        \"systemMetadata\": {}\n",
    "    }\n",
    "\n",
    "    # First try to create\n",
    "    response = requests.post(f\"{datahub_url}/{urn}/testresults\", headers=headers, json=payload)\n",
    "\n",
    "    # If the aspect already exists, try to update\n",
    "    if response.status_code == 409:  # Conflict - aspect exists\n",
    "        print(f\"Aspect already exists for {urn}. Trying to update...\")\n",
    "        response = requests.post(f\"{datahub_url}/{urn}/testresults?createIfNotExists=false\", headers=headers, json=payload)\n",
    "\n",
    "    # Check the response status\n",
    "    if response.status_code in [200, 201]:\n",
    "        print(f\"Successfully posted test result for {urn}\")\n",
    "    else:\n",
    "        print(f\"Failed to post test result for {urn}: {response.status_code} - {response.content.decode() if response.content else 'No content returned'}\")\n",
    "\n",
    "# Clean up resources\n",
    "cursor.close()\n",
    "conn.close()\n"
   ]
  }
 ],
 "metadata": {
  "language_info": {
   "name": "python"
  }
 },
 "nbformat": 4,
 "nbformat_minor": 2
}
