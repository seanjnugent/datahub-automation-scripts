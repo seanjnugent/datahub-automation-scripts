{
 "cells": [
  {
   "cell_type": "code",
   "execution_count": null,
   "metadata": {
    "vscode": {
     "languageId": "plaintext"
    }
   },
   "outputs": [],
   "source": [
    "from datahub.emitter.mcp import MetadataChangeProposalWrapper\n",
    "from datahub.emitter.rest_emitter import DatahubRestEmitter\n",
    "from datahub.metadata.schema_classes import DatasetPropertiesClass, ChangeTypeClass\n",
    "\n",
    "# Initialize the REST emitter\n",
    "emitter = DatahubRestEmitter(DETAILS)\n",
    "\n",
    "# Create a MetadataChangeProposalWrapper with the correct aspect schema\n",
    "mcp = MetadataChangeProposalWrapper(\n",
    "    entityType=\"dataset\",\n",
    "    entityUrn=\"urn:li:dataset:(urn:li:dataPlatform:postgres,nrs_demo.public.babies_first_names_23_full_lists_girls,PROD)\",\n",
    "    aspect=DatasetPropertiesClass(\n",
    "        customProperties={\n",
    "            \"PublicationDate\": \"NEWVALUE\",\n",
    "            \"TimePeriod\": \"NEWVALUE\",\n",
    "            \"Supplier\": \"NEWVALUE\"\n",
    "        }\n",
    "    ),\n",
    "    changeType=ChangeTypeClass.UPSERT\n",
    ")\n",
    "\n",
    "# Emit the change proposal\n",
    "emitter.emit_mcp(mcp)"
   ]
  }
 ],
 "metadata": {
  "language_info": {
   "name": "python"
  }
 },
 "nbformat": 4,
 "nbformat_minor": 2
}
